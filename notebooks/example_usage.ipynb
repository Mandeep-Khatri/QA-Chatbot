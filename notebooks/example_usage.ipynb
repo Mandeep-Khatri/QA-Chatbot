{
  "cells": [
    {
      "cell_type": "markdown",
      "metadata": {},
      "source": [
        "# Q&A Chatbot Example Usage\n",
        "\n",
        "This notebook demonstrates how to use the Q&A chatbot for processing course materials and answering questions.\n"
      ]
    },
    {
      "cell_type": "code",
      "execution_count": null,
      "metadata": {},
      "outputs": [],
      "source": [
        "import sys\n",
        "import os\n",
        "from pathlib import Path\n",
        "\n",
        "# Add src to path\n",
        "sys.path.append(str(Path.cwd().parent / \"src\"))\n",
        "\n",
        "from src.config import Config\n",
        "from src.pdf_processor import PDFExtractor\n",
        "from src.utils import TextSplitter\n",
        "from src.embeddings import GeminiEmbeddings, VectorStore\n",
        "from src.chatbot import QAChatbot\n"
      ]
    }
  ],
  "metadata": {
    "language_info": {
      "name": "python"
    }
  },
  "nbformat": 4,
  "nbformat_minor": 2
}
